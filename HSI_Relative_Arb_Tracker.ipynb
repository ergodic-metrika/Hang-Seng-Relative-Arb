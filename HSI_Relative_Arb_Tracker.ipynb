{
 "cells": [
  {
   "cell_type": "code",
   "execution_count": 1,
   "id": "45df06e6-6f9f-445a-af3b-05648cfe74d9",
   "metadata": {},
   "outputs": [],
   "source": [
    "import numpy as np\n",
    "from scipy.stats import norm"
   ]
  },
  {
   "cell_type": "code",
   "execution_count": 2,
   "id": "3fa6789e-d0dc-4122-be93-b9ff3b6c45ee",
   "metadata": {},
   "outputs": [],
   "source": [
    "def black_scholes_merton_greeks(S, K, T, r, sigma, q, option_type='call'):\n",
    "    \"\"\"\n",
    "    Calculate option price and Greeks using the Black-Scholes-Merton model.\n",
    "    \n",
    "    Returns:\n",
    "    option_price, delta, gamma, vega, theta\n",
    "    \"\"\"\n",
    "    \n",
    "    # Calculate d1 and d2\n",
    "    d1 = (np.log(S / K) + (r - q + 0.5 * sigma ** 2) * T) / (sigma * np.sqrt(T))\n",
    "    d2 = d1 - sigma * np.sqrt(T)\n",
    "    \n",
    "    # Calculate option price\n",
    "    if option_type == 'call':\n",
    "        option_price = (S * np.exp(-q * T) * norm.cdf(d1)) - (K * np.exp(-r * T) * norm.cdf(d2))\n",
    "        delta = np.exp(-q * T) * norm.cdf(d1)\n",
    "    elif option_type == 'put':\n",
    "        option_price = (K * np.exp(-r * T) * norm.cdf(-d2)) - (S * np.exp(-q * T) * norm.cdf(-d1))\n",
    "        delta = -np.exp(-q * T) * norm.cdf(-d1)\n",
    "    else:\n",
    "        raise ValueError(\"Invalid option type. Use 'call' or 'put'.\")\n",
    "    \n",
    "    # Calculate Greeks\n",
    "    gamma = (np.exp(-q * T) * norm.pdf(d1)) / (S * sigma * np.sqrt(T))\n",
    "    vega = S * np.exp(-q * T) * norm.pdf(d1) * np.sqrt(T)\n",
    "    \n",
    "    if option_type == 'call':\n",
    "        theta = -(S * sigma * np.exp(-q * T) * norm.pdf(d1)) / (2 * np.sqrt(T)) - r * K * np.exp(-r * T) * norm.cdf(d2) + q * S * np.exp(-q * T) * norm.cdf(d1)\n",
    "    else:  # put\n",
    "        theta = -(S * sigma * np.exp(-q * T) * norm.pdf(d1)) / (2 * np.sqrt(T)) + r * K * np.exp(-r * T) * norm.cdf(-d2) - q * S * np.exp(-q * T) * norm.cdf(-d1)\n",
    "    \n",
    "    return option_price, delta, gamma, vega, theta"
   ]
  },
  {
   "cell_type": "code",
   "execution_count": 3,
   "id": "dfacda04-ec24-45fd-a473-75fb45ac7c62",
   "metadata": {},
   "outputs": [
    {
     "name": "stdout",
     "output_type": "stream",
     "text": [
      "Call Option:\n",
      "Price: 82.9508\n",
      "Delta: -0.1270\n",
      "Gamma: -0.000153\n",
      "Vega: -1304.9140\n",
      "Theta: 946.2386\n"
     ]
    }
   ],
   "source": [
    "# Pricing for my current position\n",
    "S =17032  # Underlying\n",
    "K = 18600  # Strike price\n",
    "DT = 34\n",
    "T = DT/250  # Time to expiration (in years)\n",
    "r = 0.0015  # Risk-free rate\n",
    "sigma = 0.2157  # Volatility\n",
    "q = 0.0424  # Dividend yield\n",
    "\n",
    "call_results_P1 = black_scholes_merton_greeks(S, K, T, r, sigma, q, 'call')\n",
    "#put_results_P1 = black_scholes_merton_greeks(S, K, T, r, sigma, q, 'put')\n",
    "\n",
    "print(\"Call Option:\")\n",
    "print(f\"Price: {call_results_P1[0]:.4f}\")\n",
    "print(f\"Delta: {-call_results_P1[1]:.4f}\")\n",
    "print(f\"Gamma: {-call_results_P1[2]:.6f}\")\n",
    "print(f\"Vega: {-call_results_P1[3]:.4f}\")\n",
    "print(f\"Theta: {-call_results_P1[4]:.4f}\")"
   ]
  },
  {
   "cell_type": "code",
   "execution_count": 4,
   "id": "eef1315d-3753-4e6c-8a30-8bd8875b510b",
   "metadata": {},
   "outputs": [],
   "source": [
    "#Constant for risk measurement\n",
    "Delta_perc=0.01\n",
    "Multiplier=10\n",
    "Leveraged_Factor=2"
   ]
  },
  {
   "cell_type": "code",
   "execution_count": 15,
   "id": "b2123891-92b6-48cb-9462-0c86f3eb70c9",
   "metadata": {},
   "outputs": [
    {
     "name": "stdout",
     "output_type": "stream",
     "text": [
      "HSI_2X_Delta: 47.552\n",
      "HSI_HD_Delta: 43.88\n",
      "HSI_Delta: 88.45\n",
      "HSI_Tech_Delta: 4.23\n"
     ]
    }
   ],
   "source": [
    "#7200 HK\n",
    "HSI_2X_Volume=800\n",
    "HSI_2X_Price=2.972\n",
    "HSI_2X_Value=HSI_2X_Volume*HSI_2X_Price\n",
    "HSI_2X_Delta=HSI_2X_Value*Delta_perc*Leveraged_Factor\n",
    "print(\"HSI_2X_Delta:\", HSI_2X_Delta)\n",
    "\n",
    "#3110 HK\n",
    "HSI_HD_Vlume=200\n",
    "HSI_HD_Price=21.94\n",
    "HSI_HD_Value=HSI_HD_Vlume*HSI_HD_Price\n",
    "HSI_HD_Delta=HSI_HD_Value*Delta_perc\n",
    "print(\"HSI_HD_Delta:\",HSI_HD_Delta )\n",
    "\n",
    "#3037 HK\n",
    "HSI_Volume=500\n",
    "HSI_Price=17.69\n",
    "HSI_Value=HSI_Volume*HSI_Price\n",
    "HSI_Delta=HSI_Value*Delta_perc\n",
    "print(\"HSI_Delta:\", HSI_Delta)\n",
    "\n",
    "#2837 HK\n",
    "HSI_Tech_Volume=100\n",
    "HSI_Tech_Price=4.23\n",
    "HSI_Tech_Value=HSI_Tech_Volume*HSI_Tech_Price\n",
    "HSI_Tech_Delta=HSI_Tech_Value*Delta_perc\n",
    "print(\"HSI_Tech_Delta:\",HSI_Tech_Delta)"
   ]
  },
  {
   "cell_type": "code",
   "execution_count": 13,
   "id": "db3c8a29-42e9-4cf5-ab39-6c9ff162cda7",
   "metadata": {},
   "outputs": [
    {
     "name": "stdout",
     "output_type": "stream",
     "text": [
      "Net_Delta_Dollar: -32.15443420000926\n",
      "Net_Delta_Unit: -0.01887883642555734\n"
     ]
    }
   ],
   "source": [
    "#Total Delta from ETF\n",
    "ETF_Total_Delta=HSI_2X_Delta+HSI_HD_Delta+HSI_Delta+HSI_Tech_Delta\n",
    "\n",
    "#Options risk\n",
    "Options_Port_Delta_Unit=-call_results_P1[1]\n",
    "Options_Port_Delta_Dollar=-call_results_P1[1]*(S*Delta_perc)*Multiplier\n",
    "\n",
    "#Combine ETF with Options\n",
    "Net_Delta_Dollar=ETF_Total_Delta+Options_Port_Delta_Dollar\n",
    "print(\"Net_Delta_Dollar:\", Net_Delta_Dollar)\n",
    "\n",
    "Unit_Dollar_Conversion=Options_Port_Delta_Dollar/Options_Port_Delta_Unit\n",
    "Net_Delta_Unit=Net_Delta_Dollar/Unit_Dollar_Conversion\n",
    "print(\"Net_Delta_Unit:\", Net_Delta_Unit)"
   ]
  },
  {
   "cell_type": "code",
   "execution_count": 14,
   "id": "598b5079-fcd7-4a2e-b51d-aae127ca12c0",
   "metadata": {},
   "outputs": [
    {
     "name": "stdout",
     "output_type": "stream",
     "text": [
      "Net_PNL: 709.2900000000009\n",
      "Portfolio_Return: 0.020265428571428597\n"
     ]
    }
   ],
   "source": [
    "#################################Performance######################################\n",
    "Capital_Input_ETF=20000\n",
    "Capital_Input_Options=15000\n",
    "Total_Input=Capital_Input_ETF+Capital_Input_Options\n",
    "\n",
    "Capital_Output_ETF=19442.29\n",
    "Capital_Output_Options=16267\n",
    "Total_Output=Capital_Output_ETF+Capital_Output_Options\n",
    "\n",
    "Net_PNL=Total_Output-Total_Input\n",
    "print(\"Net_PNL:\", Net_PNL)\n",
    "\n",
    "Portfolio_Return=Net_PNL/Total_Input\n",
    "print(\"Portfolio_Return:\", Portfolio_Return)"
   ]
  },
  {
   "cell_type": "code",
   "execution_count": 16,
   "id": "c7ed7a72-2ca7-4be0-9dd5-d62ac5dad0d8",
   "metadata": {},
   "outputs": [
    {
     "name": "stdout",
     "output_type": "stream",
     "text": [
      "Benchmark_Return: -0.05134610047182903\n",
      "Excess_Return: 0.07161152904325763\n"
     ]
    }
   ],
   "source": [
    "#########Hang Seng Index Performance###########\n",
    "#Strategy Initition Date started on July 15th 2024\n",
    "Benchmark_Initiation=18015\n",
    "Benchmark_Now=17090\n",
    "Benchmark_Return=(Benchmark_Now-Benchmark_Initiation)/Benchmark_Initiation\n",
    "print(\"Benchmark_Return:\", Benchmark_Return)\n",
    "\n",
    "#Excess return over the benchmark (Hang Seng Index)\n",
    "Excess_Return=Portfolio_Return-Benchmark_Return\n",
    "print(\"Excess_Return:\", Excess_Return)\n"
   ]
  },
  {
   "cell_type": "code",
   "execution_count": null,
   "id": "a18bdec1-b068-42f7-8e64-baa87fe5d9d5",
   "metadata": {},
   "outputs": [],
   "source": []
  }
 ],
 "metadata": {
  "kernelspec": {
   "display_name": "Python 3 (ipykernel)",
   "language": "python",
   "name": "python3"
  },
  "language_info": {
   "codemirror_mode": {
    "name": "ipython",
    "version": 3
   },
   "file_extension": ".py",
   "mimetype": "text/x-python",
   "name": "python",
   "nbconvert_exporter": "python",
   "pygments_lexer": "ipython3",
   "version": "3.11.7"
  }
 },
 "nbformat": 4,
 "nbformat_minor": 5
}
